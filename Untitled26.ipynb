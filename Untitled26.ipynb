{
  "nbformat": 4,
  "nbformat_minor": 0,
  "metadata": {
    "colab": {
      "provenance": [],
      "authorship_tag": "ABX9TyPqO2MkdA9nP49cFkfgNNnv",
      "include_colab_link": true
    },
    "kernelspec": {
      "name": "python3",
      "display_name": "Python 3"
    },
    "language_info": {
      "name": "python"
    }
  },
  "cells": [
    {
      "cell_type": "markdown",
      "metadata": {
        "id": "view-in-github",
        "colab_type": "text"
      },
      "source": [
        "<a href=\"https://colab.research.google.com/github/gayathri26062006/gayuu/blob/main/Untitled26.ipynb\" target=\"_parent\"><img src=\"https://colab.research.google.com/assets/colab-badge.svg\" alt=\"Open In Colab\"/></a>"
      ]
    },
    {
      "cell_type": "code",
      "execution_count": 4,
      "metadata": {
        "colab": {
          "base_uri": "https://localhost:8080/"
        },
        "id": "rfTRSMUJytW_",
        "outputId": "fa19ee8d-c4b7-48d3-faf7-1a6862bd2ebd"
      },
      "outputs": [
        {
          "output_type": "stream",
          "name": "stdout",
          "text": [
            "Mean Squared Error: 203954.21436003866\n"
          ]
        }
      ],
      "source": [
        "from sklearn.linear_model import LinearRegression\n",
        "from sklearn.model_selection import train_test_split\n",
        "from sklearn.metrics import mean_squared_error\n",
        "import pandas as pd\n",
        "\n",
        "# Sample dataset\n",
        "data={\n",
        "    'Experince':[1,2,3,4.5, 5],\n",
        "    'Salary':[40000,50000,60000,70000,80000]\n",
        "}\n",
        "df=pd.DataFrame(data)\n",
        "\n",
        "x=df[['Experince']]\n",
        "y=df['Salary']\n",
        "\n",
        "# Step 1: Split data\n",
        "x_train,x_test,y_train,y_test=train_test_split(x,y,test_size=0.2, random_state=42) # Added random_state for reproducibility\n",
        "\n",
        "# Step 2:Create model\n",
        "model = LinearRegression()\n",
        "\n",
        "# Step 3: Train\n",
        "model.fit(x_train,y_train)\n",
        "\n",
        "# Step 4: Predict\n",
        "prediction=model.predict(x_test)\n",
        "\n",
        "# Step 4: Evaluate\n",
        "mse=mean_squared_error(y_test,prediction)\n",
        "print(\"Mean Squared Error:\",mse)"
      ]
    }
  ]
}